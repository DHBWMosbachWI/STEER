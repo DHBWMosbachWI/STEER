{
 "cells": [
  {
   "cell_type": "code",
   "execution_count": null,
   "metadata": {},
   "outputs": [],
   "source": [
    "import os\n",
    "import sys\n",
    "from dotenv import load_dotenv\n",
    "\n",
    "load_dotenv(override=True)\n",
    "\n",
    "sys.path.append(os.environ[\"WORKING_DIR\"])\n",
    "from os.path import join\n",
    "import json\n",
    "import pandas as pd\n",
    "import numpy as np\n",
    "\n",
    "from data_loader.utils import load_public_bi_table_by_cols, get_label_encoder\n",
    "\n",
    "valid_headers_path = join(os.environ[\"WORKING_DIR\"], \"data\", \"extract\", \"out\",\n",
    "                          \"valid_headers\")\n",
    "\n",
    "# Label Encoder\n",
    "label_enc = get_label_encoder()\n",
    "\n",
    "numeric_types = [\"X1B\",\n",
    "                 \"X2B\",\n",
    "                 \"X3B\",\n",
    "                 \"TB\",\n",
    "                 \"HR\",\n",
    "                 \"R\",\n",
    "                 \"BB\",\n",
    "                 \"AB\",\n",
    "                 \"GIDP\",\n",
    "                 \"HBP\",\n",
    "                 \"H\",\n",
    "                 \"SF\",\n",
    "                 \"SH\",\n",
    "                 \"SO\",\n",
    "                 \"iBB\",\n",
    "                 \"CS\",\n",
    "                 \"SB\",\n",
    "                 \"latitude\",\n",
    "                 \"longitude\",\n",
    "                 \"year\"]"
   ]
  },
  {
   "cell_type": "code",
   "execution_count": null,
   "metadata": {},
   "outputs": [],
   "source": [
    "## load valid headers\n",
    "valid_headers_path = join(os.environ[\"WORKING_DIR\"], \"data\", \"extract\", \"out\",\n",
    "                          \"valid_headers\")\n",
    "with open(join(valid_headers_path, \"public_bi_num_type_public_bi.json\")) as f:\n",
    "    valid_headers = json.load(f)\n",
    "\n",
    "def get_all_cols_with_type(semantic_type:str) -> pd.DataFrame:\n",
    "    results = []\n",
    "\n",
    "    for table in valid_headers.keys():\n",
    "        for column in valid_headers[table].keys():\n",
    "            if valid_headers[table][column][\"semanticType\"] == semantic_type:\n",
    "                results.append([table+\"+\"+column, valid_headers[table][column][\"semanticType\"]])\n",
    "    return pd.DataFrame(results, columns=[\"dataset_id\", \"semantic_type\"])\n"
   ]
  },
  {
   "cell_type": "code",
   "execution_count": null,
   "metadata": {},
   "outputs": [],
   "source": [
    "semantic_type = \"CS\"\n",
    "\n",
    "results = []\n",
    "for semantic_type in numeric_types:\n",
    "    df = get_all_cols_with_type(semantic_type)\n",
    "    df[\"count\"] = None\n",
    "    df[\"mean\"] = None\n",
    "    df[\"std\"] = None\n",
    "    df[\"min\"] = None\n",
    "    df[\"25%\"] = None\n",
    "    df[\"50%\"] = None\n",
    "    df[\"75%\"] = None\n",
    "    df[\"max\"] = None\n",
    "    df[\"nunique\"] = None\n",
    "\n",
    "    for row_idx, row in df.iterrows():\n",
    "        # if row_idx > 0:\n",
    "        #     break\n",
    "        domain = row[\"dataset_id\"].split(\"_\")[0]\n",
    "        tablename = row[\"dataset_id\"].split(\"+\")[0]\n",
    "        column = int(row[\"dataset_id\"].split(\"+\")[1].split(\"_\")[1])\n",
    "        df_table = load_public_bi_table_by_cols(domain, tablename, [column], [semantic_type])\n",
    "        df_table[semantic_type] = pd.to_numeric(df_table[semantic_type], errors=\"coerce\")\n",
    "        df_table[semantic_type].dropna()\n",
    "        df_table_stats = df_table.describe()\n",
    "        for statistic in [\"count\", \"mean\", \"std\", \"min\", \"25%\", \"50%\", \"75%\", \"max\", \"nunique\"]:\n",
    "            if statistic == \"nunique\":\n",
    "                df.loc[row_idx, statistic] = df_table[semantic_type].nunique()\n",
    "                continue    \n",
    "            df.loc[row_idx, statistic] = df_table_stats.loc[statistic, semantic_type]\n",
    "    results.append(df)\n"
   ]
  },
  {
   "cell_type": "code",
   "execution_count": null,
   "metadata": {},
   "outputs": [],
   "source": [
    "pd.concat(results).reset_index(drop=True).to_csv(\"public_bi_stats_num_cols.csv\", index=False)"
   ]
  },
  {
   "cell_type": "code",
   "execution_count": null,
   "metadata": {},
   "outputs": [],
   "source": [
    "import pandas as pd\n",
    "import numpy as np\n",
    "import matplotlib.pyplot as plt\n",
    "\n",
    "df_stats = pd.read_csv(\"public_bi_stats_num_cols.csv\")\n",
    "number_of_groups = 0\n",
    "\n",
    "plot_data = []\n",
    "for idx, group in df_stats.groupby(by=[\"semantic_type\", \"min\", \"25%\", \"50%\", \"75%\", \"max\"]):\n",
    "    number_of_groups += 1\n",
    "    # if number_of_groups > 50:\n",
    "    #     break\n",
    "    #print(idx[0])\n",
    "    if idx[0] in [\"latitude\", \"longitude\", \"year\"]:\n",
    "        continue\n",
    "    #if idx[0] in [\"SF\", \"SH\"]:\n",
    "    plot_data.append({\n",
    "        \"label\": idx[0],\n",
    "        \"whislo\": idx[1],\n",
    "        \"q1\": idx[2],\n",
    "        \"med\": idx[3],\n",
    "        \"q3\": idx[4],\n",
    "        \"whishi\": idx[5],\n",
    "        \"fliers\": []\n",
    "    })\n",
    "    #print(group)\n",
    "print(number_of_groups)\n",
    "\n",
    "fig, ax = plt.subplots(figsize=(25,50))\n",
    "ax.bxp(plot_data, boxprops=dict(color=\"red\"), widths=0.75, vert=False)\n",
    "ax.set_xlim([-1,150])\n"
   ]
  },
  {
   "cell_type": "code",
   "execution_count": null,
   "metadata": {},
   "outputs": [],
   "source": [
    "df_stats[(df_stats[\"nunique\"] < 2)].to_csv(join(valid_headers_path, \"public_bi_num_type_public_bi_nums_to_delete.csv\"), index=False)"
   ]
  },
  {
   "cell_type": "code",
   "execution_count": null,
   "metadata": {},
   "outputs": [],
   "source": [
    "df = load_public_bi_table_by_cols(\"TrainsUK2\", \"TrainsUK2_1\", [2], [\"year\"])"
   ]
  },
  {
   "cell_type": "code",
   "execution_count": null,
   "metadata": {},
   "outputs": [],
   "source": [
    "df"
   ]
  },
  {
   "cell_type": "code",
   "execution_count": null,
   "metadata": {},
   "outputs": [],
   "source": [
    "df_stats[(df_stats[\"min\"] == 0) & (df_stats[\"25%\"] == 0) & (df_stats[\"50%\"] == 0) & (df_stats[\"75%\"] == 0)]"
   ]
  },
  {
   "cell_type": "code",
   "execution_count": null,
   "metadata": {},
   "outputs": [],
   "source": []
  }
 ],
 "metadata": {
  "kernelspec": {
   "display_name": "Python 3.9.2 64-bit",
   "language": "python",
   "name": "python3"
  },
  "language_info": {
   "codemirror_mode": {
    "name": "ipython",
    "version": 3
   },
   "file_extension": ".py",
   "mimetype": "text/x-python",
   "name": "python",
   "nbconvert_exporter": "python",
   "pygments_lexer": "ipython3",
   "version": "3.9.2"
  },
  "orig_nbformat": 4,
  "vscode": {
   "interpreter": {
    "hash": "31f2aee4e71d21fbe5cf8b01ff0e069b9275f58929596ceb00d14d90e3e16cd6"
   }
  }
 },
 "nbformat": 4,
 "nbformat_minor": 2
}
