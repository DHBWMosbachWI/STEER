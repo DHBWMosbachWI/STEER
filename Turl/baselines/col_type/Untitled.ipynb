{
 "cells": [
  {
   "cell_type": "code",
   "execution_count": 4,
   "metadata": {},
   "outputs": [],
   "source": [
    "import json\n",
    "import numpy as np\n",
    "import pickle\n",
    "import os"
   ]
  },
  {
   "cell_type": "code",
   "execution_count": 2,
   "metadata": {},
   "outputs": [],
   "source": [
    "def load_entity_vocab(data_dir, ignore_bad_title=True, min_ent_count=1):\n",
    "    entity_vocab = {}\n",
    "    bad_title = 0\n",
    "    few_entity = 0\n",
    "    with open(os.path.join(data_dir, 'entity_vocab.txt'), 'r', encoding=\"utf-8\") as f:\n",
    "        for line in f:\n",
    "            _, entity_id, entity_title, entity_mid, count = line.strip().split('\\t')\n",
    "            if ignore_bad_title and entity_title == '':\n",
    "                bad_title += 1\n",
    "            elif int(count) < min_ent_count:\n",
    "                few_entity += 1\n",
    "            else:\n",
    "                entity_vocab[len(entity_vocab)] = {\n",
    "                    'wiki_id': int(entity_id),\n",
    "                    'wiki_title': entity_title,\n",
    "                    'mid': entity_mid,\n",
    "                    'count': int(count)\n",
    "                }\n",
    "    print('total number of entity: %d\\nremove because of empty title: %d\\nremove because count<%d: %d'%(len(entity_vocab),bad_title,min_ent_count,few_entity))\n",
    "    return entity_vocab"
   ]
  },
  {
   "cell_type": "code",
   "execution_count": 12,
   "metadata": {},
   "outputs": [
    {
     "name": "stdout",
     "output_type": "stream",
     "text": [
      "total number of entity: 368789\n",
      "remove because of empty title: 5426\n",
      "remove because count<2: 467625\n"
     ]
    }
   ],
   "source": [
    "data_dir = \"/srv/samba/group_workspace_1/deng.595/workspace/table_transformer/data/wikitable_entity/\"\n",
    "entity_vocab = load_entity_vocab(data_dir, True, 2)\n",
    "train_all_entities = set([x['wiki_title'] for _,x in entity_vocab.items()])"
   ]
  },
  {
   "cell_type": "code",
   "execution_count": 15,
   "metadata": {},
   "outputs": [],
   "source": [
    "with open(\"../../data/col_type/cache_ents_Wikipedia.json\", \"r\") as f:\n",
    "    ents_T2D_Limaye = json.load(f)"
   ]
  },
  {
   "cell_type": "code",
   "execution_count": 16,
   "metadata": {},
   "outputs": [
    {
     "name": "stdout",
     "output_type": "stream",
     "text": [
      "0.6330128205128205\n"
     ]
    }
   ],
   "source": [
    "exist = 0.0\n",
    "for k,v in ents_T2D_Limaye.items():\n",
    "    if len(v) == 0:\n",
    "        exist += 1\n",
    "    else:\n",
    "        for e in v:\n",
    "            if e.split('/')[-1] in train_all_entities:\n",
    "                exist += 1\n",
    "                break\n",
    "print(exist/len(ents_T2D_Limaye))"
   ]
  },
  {
   "cell_type": "code",
   "execution_count": 10,
   "metadata": {},
   "outputs": [
    {
     "data": {
      "text/plain": [
       "22140"
      ]
     },
     "execution_count": 10,
     "metadata": {},
     "output_type": "execute_result"
    }
   ],
   "source": [
    "len(ents_T2D_Limaye)"
   ]
  },
  {
   "cell_type": "code",
   "execution_count": null,
   "metadata": {},
   "outputs": [],
   "source": []
  }
 ],
 "metadata": {
  "kernelspec": {
   "display_name": "Python 3",
   "language": "python",
   "name": "python3"
  },
  "language_info": {
   "codemirror_mode": {
    "name": "ipython",
    "version": 3
   },
   "file_extension": ".py",
   "mimetype": "text/x-python",
   "name": "python",
   "nbconvert_exporter": "python",
   "pygments_lexer": "ipython3",
   "version": "3.6.7"
  }
 },
 "nbformat": 4,
 "nbformat_minor": 2
}
