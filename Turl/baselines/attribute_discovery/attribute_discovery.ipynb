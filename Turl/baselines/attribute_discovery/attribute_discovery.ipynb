{
 "cells": [
  {
   "cell_type": "code",
   "execution_count": 1,
   "metadata": {},
   "outputs": [],
   "source": [
    "import json\n",
    "import numpy as np\n",
    "import collections\n",
    "import copy\n",
    "from os import listdir\n",
    "from os.path import isfile, join"
   ]
  },
  {
   "cell_type": "code",
   "execution_count": 2,
   "metadata": {},
   "outputs": [],
   "source": [
    "import findspark\n",
    "findspark.init()\n",
    "from pyspark import SparkContext\n",
    "import pyspark\n",
    "conf = pyspark.SparkConf().setAll([('spark.executor.memory', '8g'), ('spark.executor.cores', '2'),('spark.executor.instances','7'), ('spark.driver.memory','32g'), ('spark.driver.maxResultSize','10g')])\n",
    "sc = SparkContext(conf=conf)"
   ]
  },
  {
   "cell_type": "code",
   "execution_count": 4,
   "metadata": {},
   "outputs": [],
   "source": [
    "from pyspark.sql import functions as F\n",
    "from pyspark.sql.types import ArrayType, FloatType, StringType\n",
    "from pyspark.sql.types import Row\n",
    "from pyspark.sql import SparkSession\n",
    "spark = SparkSession(sc)"
   ]
  },
  {
   "cell_type": "code",
   "execution_count": 3,
   "metadata": {},
   "outputs": [],
   "source": [
    "from operator import add"
   ]
  },
  {
   "cell_type": "code",
   "execution_count": 10,
   "metadata": {},
   "outputs": [],
   "source": [
    "acsdb = sc.textFile(\"/srv/samba/group_workspace_1/deng.595/workspace/table_transformer/data/ACSDb/coheader_stats_10092007_uniquedByDomain.txt\")"
   ]
  },
  {
   "cell_type": "code",
   "execution_count": 50,
   "metadata": {},
   "outputs": [],
   "source": [
    "attr_stat = acsdb.filter(lambda x:x.startswith(\"single\")).map(lambda x:x[7:].strip(\"_\").split(\" = \"))\n",
    "schema_stat = acsdb.filter(lambda x:x.startswith(\"combo\")).map(lambda x:x[6:].strip(\"_\").split(\" = \"))"
   ]
  },
  {
   "cell_type": "code",
   "execution_count": 47,
   "metadata": {},
   "outputs": [],
   "source": [
    "from itertools import combinations"
   ]
  },
  {
   "cell_type": "code",
   "execution_count": 51,
   "metadata": {},
   "outputs": [],
   "source": [
    "attr_stat = spark.createDataFrame(attr_stat.map(lambda x:(x[0],int(x[1]))), [\"attribute\",\"freq\"])\n",
    "schema_stat = spark.createDataFrame(schema_stat.map(lambda x:(list(combinations(x[0].split('_'),2)),int(x[1]))), [\"attribute_pairs\",\"freq\"]).withColumn(\"schema_id\", F.monotonically_increasing_id())"
   ]
  },
  {
   "cell_type": "code",
   "execution_count": 52,
   "metadata": {},
   "outputs": [],
   "source": [
    "schema_stat = schema_stat.select(\"freq\",\"schema_id\",F.explode(\"attribute_pairs\").alias(\"attribute_pair\"))"
   ]
  },
  {
   "cell_type": "code",
   "execution_count": 54,
   "metadata": {},
   "outputs": [],
   "source": [
    "attr_co_occ = schema_stat.groupBy(\"attribute_pair\").agg(F.sum(\"freq\").alias(\"co_freq\"))"
   ]
  },
  {
   "cell_type": "code",
   "execution_count": 55,
   "metadata": {},
   "outputs": [
    {
     "name": "stdout",
     "output_type": "stream",
     "text": [
      "+--------------------+-------+\n",
      "|      attribute_pair|co_freq|\n",
      "+--------------------+-------+\n",
      "|           [1-4, 12]|    213|\n",
      "|[back-spacing, of...|      2|\n",
      "|    [attack, serve*]|    256|\n",
      "|  [ends-:, status-:]|    337|\n",
      "|[case-number, foe...|      1|\n",
      "|[code, ext.-tube-...|      2|\n",
      "|[code, max.-diffe...|      3|\n",
      "|[invariant-cluste...|      1|\n",
      "|          [cs2, cs3]|      3|\n",
      "|            [7a, 9a]|     25|\n",
      "|[tuesday, wednesday]|  35402|\n",
      "|   [date, l.-island]|      4|\n",
      "|[gb, lauro-memori...|      1|\n",
      "|[business-phone, ...|      1|\n",
      "|[avg-career-hbp, ...|      1|\n",
      "|[%-rmsep, %-zero-...|      1|\n",
      "|     [place, winner]|     41|\n",
      "|        [mon:, thu:]|    304|\n",
      "|         [rank, tds]|     60|\n",
      "|[own-travel, sing...|      2|\n",
      "+--------------------+-------+\n",
      "only showing top 20 rows\n",
      "\n"
     ]
    }
   ],
   "source": [
    "attr_co_occ.show()"
   ]
  },
  {
   "cell_type": "code",
   "execution_count": null,
   "metadata": {},
   "outputs": [],
   "source": []
  }
 ],
 "metadata": {
  "kernelspec": {
   "display_name": "Python 3",
   "language": "python",
   "name": "python3"
  },
  "language_info": {
   "codemirror_mode": {
    "name": "ipython",
    "version": 3
   },
   "file_extension": ".py",
   "mimetype": "text/x-python",
   "name": "python",
   "nbconvert_exporter": "python",
   "pygments_lexer": "ipython3",
   "version": "3.6.7"
  }
 },
 "nbformat": 4,
 "nbformat_minor": 2
}
